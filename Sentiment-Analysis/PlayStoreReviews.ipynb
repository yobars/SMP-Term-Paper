{
  "nbformat": 4,
  "nbformat_minor": 0,
  "metadata": {
    "colab": {
      "provenance": []
    },
    "kernelspec": {
      "name": "python3",
      "display_name": "Python 3"
    },
    "language_info": {
      "name": "python"
    }
  },
  "cells": [
    {
      "cell_type": "markdown",
      "source": [
        "# **Bangladeshi E-commerce Applications**\n",
        "\n",
        "Daraz -> 4.3 rating, 3.55M reviews\n",
        "\n",
        "Chaldal -> 4.5 rating, 23.3K reviews\n",
        "\n",
        "Bikroy -> 4.4 rating, 95.2K reviews\n",
        "\n",
        "Rokomari -> 4.3 rating, 17.6K reviews\n",
        "\n"
      ],
      "metadata": {
        "id": "S_UtGVfzTgHb"
      }
    },
    {
      "cell_type": "markdown",
      "source": [
        "# **UI/UX Metrics**\n",
        "1. Usability\n",
        "2. Performance and Responsiveness\n",
        "3. Visual Design and Aesthetic\n",
        "4. User Engagement and Feedback\n"
      ],
      "metadata": {
        "id": "S80FvT-gXmd8"
      }
    },
    {
      "cell_type": "markdown",
      "source": [
        "# **Imports**"
      ],
      "metadata": {
        "id": "aKNjQqxMVqWZ"
      }
    },
    {
      "cell_type": "code",
      "execution_count": null,
      "metadata": {
        "colab": {
          "base_uri": "https://localhost:8080/"
        },
        "id": "o0P12Ste7Gr0",
        "outputId": "36615cd3-17c0-46f0-b644-d6ae9eab1166"
      },
      "outputs": [
        {
          "output_type": "stream",
          "name": "stdout",
          "text": [
            "Collecting google-play-scraper\n",
            "  Downloading google_play_scraper-1.2.4-py3-none-any.whl (28 kB)\n",
            "Installing collected packages: google-play-scraper\n",
            "Successfully installed google-play-scraper-1.2.4\n"
          ]
        }
      ],
      "source": [
        "pip install google-play-scraper"
      ]
    },
    {
      "cell_type": "code",
      "source": [
        "from google_play_scraper import app\n",
        "\n",
        "import pandas as pd\n",
        "\n",
        "import numpy as np"
      ],
      "metadata": {
        "id": "D2MQKJXi7cr0"
      },
      "execution_count": null,
      "outputs": []
    },
    {
      "cell_type": "markdown",
      "source": [
        "# **Daraz**"
      ],
      "metadata": {
        "id": "oiLyJ2y2V1Pb"
      }
    },
    {
      "cell_type": "code",
      "source": [
        "from google_play_scraper import Sort, reviews_all\n",
        "\n",
        "\n",
        "daraz_reviews = reviews_all(\n",
        "    'com.daraz.android',\n",
        "    # sleep_milliseconds=0, # defaults to 0\n",
        "    lang='bn', # defaults to 'en'\n",
        "    country='us', # defaults to 'us'\n",
        "    sort=Sort.NEWEST, # defaults to Sort.MOST_RELEVANT\n",
        "    sleep_milliseconds=100  # Adjust delay as needed\n",
        ")"
      ],
      "metadata": {
        "id": "jMsZLIPd8Vtw"
      },
      "execution_count": null,
      "outputs": []
    },
    {
      "cell_type": "code",
      "source": [
        "df_daraz = pd.DataFrame(np.array(daraz_reviews),columns=['review'])\n",
        "\n",
        "df_daraz = df_daraz.join(pd.DataFrame(df_daraz.pop('review').tolist()))\n",
        "\n",
        "df_daraz.head()\n",
        "\n",
        "# df_daraz.to_excel('daraz_reviews.xlsx', index=False)\n"
      ],
      "metadata": {
        "id": "52fsPzw88bt5",
        "colab": {
          "base_uri": "https://localhost:8080/",
          "height": 293
        },
        "outputId": "241e39e7-5abc-4622-c316-689b24458b54"
      },
      "execution_count": null,
      "outputs": [
        {
          "output_type": "execute_result",
          "data": {
            "text/plain": [
              "                               reviewId               userName  \\\n",
              "0  0eeb80b8-c168-43e2-bf43-fa170e339b83                 Md Joy   \n",
              "1  4bd2f769-213e-4ef0-9d1d-30ed519649e3          Kawsar Munshi   \n",
              "2  02a9b301-41fe-4087-9a4c-c8e5ea5474a0  Husna Hena Husna Hena   \n",
              "3  7b8b7159-77ea-455c-8c40-6c76f88752cc          Fawzia Khatun   \n",
              "4  02cc7510-b3f5-4283-8730-e6763c2aeeda              Babul Mia   \n",
              "\n",
              "                                           userImage  \\\n",
              "0  https://play-lh.googleusercontent.com/a/ACg8oc...   \n",
              "1  https://play-lh.googleusercontent.com/a-/ALV-U...   \n",
              "2  https://play-lh.googleusercontent.com/a/ACg8oc...   \n",
              "3  https://play-lh.googleusercontent.com/a-/ALV-U...   \n",
              "4  https://play-lh.googleusercontent.com/a/ACg8oc...   \n",
              "\n",
              "                                             content  score  thumbsUpCount  \\\n",
              "0                                       Uff nice app      5              0   \n",
              "1  Dতে দারাজ Bতে বাটপার Sসেলারগুলো অনেকবার ঠকেছে ...      5             16   \n",
              "2                                                ভাল      5              7   \n",
              "3                                        নাইস অ্যাপ।      2              0   \n",
              "4                                               ❤️❤️      4              0   \n",
              "\n",
              "  reviewCreatedVersion                  at replyContent repliedAt appVersion  \n",
              "0                 None 2024-01-06 10:10:45         None       NaT       None  \n",
              "1                7.6.0 2023-12-31 16:00:50         None       NaT      7.6.0  \n",
              "2                7.6.0 2023-12-31 14:01:37         None       NaT      7.6.0  \n",
              "3                 None 2023-12-29 15:46:12         None       NaT       None  \n",
              "4                 None 2023-12-27 06:40:25         None       NaT       None  "
            ],
            "text/html": [
              "\n",
              "  <div id=\"df-5124ade5-474a-4c94-9080-4e04c6c4346e\" class=\"colab-df-container\">\n",
              "    <div>\n",
              "<style scoped>\n",
              "    .dataframe tbody tr th:only-of-type {\n",
              "        vertical-align: middle;\n",
              "    }\n",
              "\n",
              "    .dataframe tbody tr th {\n",
              "        vertical-align: top;\n",
              "    }\n",
              "\n",
              "    .dataframe thead th {\n",
              "        text-align: right;\n",
              "    }\n",
              "</style>\n",
              "<table border=\"1\" class=\"dataframe\">\n",
              "  <thead>\n",
              "    <tr style=\"text-align: right;\">\n",
              "      <th></th>\n",
              "      <th>reviewId</th>\n",
              "      <th>userName</th>\n",
              "      <th>userImage</th>\n",
              "      <th>content</th>\n",
              "      <th>score</th>\n",
              "      <th>thumbsUpCount</th>\n",
              "      <th>reviewCreatedVersion</th>\n",
              "      <th>at</th>\n",
              "      <th>replyContent</th>\n",
              "      <th>repliedAt</th>\n",
              "      <th>appVersion</th>\n",
              "    </tr>\n",
              "  </thead>\n",
              "  <tbody>\n",
              "    <tr>\n",
              "      <th>0</th>\n",
              "      <td>0eeb80b8-c168-43e2-bf43-fa170e339b83</td>\n",
              "      <td>Md Joy</td>\n",
              "      <td>https://play-lh.googleusercontent.com/a/ACg8oc...</td>\n",
              "      <td>Uff nice app</td>\n",
              "      <td>5</td>\n",
              "      <td>0</td>\n",
              "      <td>None</td>\n",
              "      <td>2024-01-06 10:10:45</td>\n",
              "      <td>None</td>\n",
              "      <td>NaT</td>\n",
              "      <td>None</td>\n",
              "    </tr>\n",
              "    <tr>\n",
              "      <th>1</th>\n",
              "      <td>4bd2f769-213e-4ef0-9d1d-30ed519649e3</td>\n",
              "      <td>Kawsar Munshi</td>\n",
              "      <td>https://play-lh.googleusercontent.com/a-/ALV-U...</td>\n",
              "      <td>Dতে দারাজ Bতে বাটপার Sসেলারগুলো অনেকবার ঠকেছে ...</td>\n",
              "      <td>5</td>\n",
              "      <td>16</td>\n",
              "      <td>7.6.0</td>\n",
              "      <td>2023-12-31 16:00:50</td>\n",
              "      <td>None</td>\n",
              "      <td>NaT</td>\n",
              "      <td>7.6.0</td>\n",
              "    </tr>\n",
              "    <tr>\n",
              "      <th>2</th>\n",
              "      <td>02a9b301-41fe-4087-9a4c-c8e5ea5474a0</td>\n",
              "      <td>Husna Hena Husna Hena</td>\n",
              "      <td>https://play-lh.googleusercontent.com/a/ACg8oc...</td>\n",
              "      <td>ভাল</td>\n",
              "      <td>5</td>\n",
              "      <td>7</td>\n",
              "      <td>7.6.0</td>\n",
              "      <td>2023-12-31 14:01:37</td>\n",
              "      <td>None</td>\n",
              "      <td>NaT</td>\n",
              "      <td>7.6.0</td>\n",
              "    </tr>\n",
              "    <tr>\n",
              "      <th>3</th>\n",
              "      <td>7b8b7159-77ea-455c-8c40-6c76f88752cc</td>\n",
              "      <td>Fawzia Khatun</td>\n",
              "      <td>https://play-lh.googleusercontent.com/a-/ALV-U...</td>\n",
              "      <td>নাইস অ্যাপ।</td>\n",
              "      <td>2</td>\n",
              "      <td>0</td>\n",
              "      <td>None</td>\n",
              "      <td>2023-12-29 15:46:12</td>\n",
              "      <td>None</td>\n",
              "      <td>NaT</td>\n",
              "      <td>None</td>\n",
              "    </tr>\n",
              "    <tr>\n",
              "      <th>4</th>\n",
              "      <td>02cc7510-b3f5-4283-8730-e6763c2aeeda</td>\n",
              "      <td>Babul Mia</td>\n",
              "      <td>https://play-lh.googleusercontent.com/a/ACg8oc...</td>\n",
              "      <td>❤️❤️</td>\n",
              "      <td>4</td>\n",
              "      <td>0</td>\n",
              "      <td>None</td>\n",
              "      <td>2023-12-27 06:40:25</td>\n",
              "      <td>None</td>\n",
              "      <td>NaT</td>\n",
              "      <td>None</td>\n",
              "    </tr>\n",
              "  </tbody>\n",
              "</table>\n",
              "</div>\n",
              "    <div class=\"colab-df-buttons\">\n",
              "\n",
              "  <div class=\"colab-df-container\">\n",
              "    <button class=\"colab-df-convert\" onclick=\"convertToInteractive('df-5124ade5-474a-4c94-9080-4e04c6c4346e')\"\n",
              "            title=\"Convert this dataframe to an interactive table.\"\n",
              "            style=\"display:none;\">\n",
              "\n",
              "  <svg xmlns=\"http://www.w3.org/2000/svg\" height=\"24px\" viewBox=\"0 -960 960 960\">\n",
              "    <path d=\"M120-120v-720h720v720H120Zm60-500h600v-160H180v160Zm220 220h160v-160H400v160Zm0 220h160v-160H400v160ZM180-400h160v-160H180v160Zm440 0h160v-160H620v160ZM180-180h160v-160H180v160Zm440 0h160v-160H620v160Z\"/>\n",
              "  </svg>\n",
              "    </button>\n",
              "\n",
              "  <style>\n",
              "    .colab-df-container {\n",
              "      display:flex;\n",
              "      gap: 12px;\n",
              "    }\n",
              "\n",
              "    .colab-df-convert {\n",
              "      background-color: #E8F0FE;\n",
              "      border: none;\n",
              "      border-radius: 50%;\n",
              "      cursor: pointer;\n",
              "      display: none;\n",
              "      fill: #1967D2;\n",
              "      height: 32px;\n",
              "      padding: 0 0 0 0;\n",
              "      width: 32px;\n",
              "    }\n",
              "\n",
              "    .colab-df-convert:hover {\n",
              "      background-color: #E2EBFA;\n",
              "      box-shadow: 0px 1px 2px rgba(60, 64, 67, 0.3), 0px 1px 3px 1px rgba(60, 64, 67, 0.15);\n",
              "      fill: #174EA6;\n",
              "    }\n",
              "\n",
              "    .colab-df-buttons div {\n",
              "      margin-bottom: 4px;\n",
              "    }\n",
              "\n",
              "    [theme=dark] .colab-df-convert {\n",
              "      background-color: #3B4455;\n",
              "      fill: #D2E3FC;\n",
              "    }\n",
              "\n",
              "    [theme=dark] .colab-df-convert:hover {\n",
              "      background-color: #434B5C;\n",
              "      box-shadow: 0px 1px 3px 1px rgba(0, 0, 0, 0.15);\n",
              "      filter: drop-shadow(0px 1px 2px rgba(0, 0, 0, 0.3));\n",
              "      fill: #FFFFFF;\n",
              "    }\n",
              "  </style>\n",
              "\n",
              "    <script>\n",
              "      const buttonEl =\n",
              "        document.querySelector('#df-5124ade5-474a-4c94-9080-4e04c6c4346e button.colab-df-convert');\n",
              "      buttonEl.style.display =\n",
              "        google.colab.kernel.accessAllowed ? 'block' : 'none';\n",
              "\n",
              "      async function convertToInteractive(key) {\n",
              "        const element = document.querySelector('#df-5124ade5-474a-4c94-9080-4e04c6c4346e');\n",
              "        const dataTable =\n",
              "          await google.colab.kernel.invokeFunction('convertToInteractive',\n",
              "                                                    [key], {});\n",
              "        if (!dataTable) return;\n",
              "\n",
              "        const docLinkHtml = 'Like what you see? Visit the ' +\n",
              "          '<a target=\"_blank\" href=https://colab.research.google.com/notebooks/data_table.ipynb>data table notebook</a>'\n",
              "          + ' to learn more about interactive tables.';\n",
              "        element.innerHTML = '';\n",
              "        dataTable['output_type'] = 'display_data';\n",
              "        await google.colab.output.renderOutput(dataTable, element);\n",
              "        const docLink = document.createElement('div');\n",
              "        docLink.innerHTML = docLinkHtml;\n",
              "        element.appendChild(docLink);\n",
              "      }\n",
              "    </script>\n",
              "  </div>\n",
              "\n",
              "\n",
              "<div id=\"df-fc73e436-77d4-4a52-b2c1-4ccfc038b6e6\">\n",
              "  <button class=\"colab-df-quickchart\" onclick=\"quickchart('df-fc73e436-77d4-4a52-b2c1-4ccfc038b6e6')\"\n",
              "            title=\"Suggest charts\"\n",
              "            style=\"display:none;\">\n",
              "\n",
              "<svg xmlns=\"http://www.w3.org/2000/svg\" height=\"24px\"viewBox=\"0 0 24 24\"\n",
              "     width=\"24px\">\n",
              "    <g>\n",
              "        <path d=\"M19 3H5c-1.1 0-2 .9-2 2v14c0 1.1.9 2 2 2h14c1.1 0 2-.9 2-2V5c0-1.1-.9-2-2-2zM9 17H7v-7h2v7zm4 0h-2V7h2v10zm4 0h-2v-4h2v4z\"/>\n",
              "    </g>\n",
              "</svg>\n",
              "  </button>\n",
              "\n",
              "<style>\n",
              "  .colab-df-quickchart {\n",
              "      --bg-color: #E8F0FE;\n",
              "      --fill-color: #1967D2;\n",
              "      --hover-bg-color: #E2EBFA;\n",
              "      --hover-fill-color: #174EA6;\n",
              "      --disabled-fill-color: #AAA;\n",
              "      --disabled-bg-color: #DDD;\n",
              "  }\n",
              "\n",
              "  [theme=dark] .colab-df-quickchart {\n",
              "      --bg-color: #3B4455;\n",
              "      --fill-color: #D2E3FC;\n",
              "      --hover-bg-color: #434B5C;\n",
              "      --hover-fill-color: #FFFFFF;\n",
              "      --disabled-bg-color: #3B4455;\n",
              "      --disabled-fill-color: #666;\n",
              "  }\n",
              "\n",
              "  .colab-df-quickchart {\n",
              "    background-color: var(--bg-color);\n",
              "    border: none;\n",
              "    border-radius: 50%;\n",
              "    cursor: pointer;\n",
              "    display: none;\n",
              "    fill: var(--fill-color);\n",
              "    height: 32px;\n",
              "    padding: 0;\n",
              "    width: 32px;\n",
              "  }\n",
              "\n",
              "  .colab-df-quickchart:hover {\n",
              "    background-color: var(--hover-bg-color);\n",
              "    box-shadow: 0 1px 2px rgba(60, 64, 67, 0.3), 0 1px 3px 1px rgba(60, 64, 67, 0.15);\n",
              "    fill: var(--button-hover-fill-color);\n",
              "  }\n",
              "\n",
              "  .colab-df-quickchart-complete:disabled,\n",
              "  .colab-df-quickchart-complete:disabled:hover {\n",
              "    background-color: var(--disabled-bg-color);\n",
              "    fill: var(--disabled-fill-color);\n",
              "    box-shadow: none;\n",
              "  }\n",
              "\n",
              "  .colab-df-spinner {\n",
              "    border: 2px solid var(--fill-color);\n",
              "    border-color: transparent;\n",
              "    border-bottom-color: var(--fill-color);\n",
              "    animation:\n",
              "      spin 1s steps(1) infinite;\n",
              "  }\n",
              "\n",
              "  @keyframes spin {\n",
              "    0% {\n",
              "      border-color: transparent;\n",
              "      border-bottom-color: var(--fill-color);\n",
              "      border-left-color: var(--fill-color);\n",
              "    }\n",
              "    20% {\n",
              "      border-color: transparent;\n",
              "      border-left-color: var(--fill-color);\n",
              "      border-top-color: var(--fill-color);\n",
              "    }\n",
              "    30% {\n",
              "      border-color: transparent;\n",
              "      border-left-color: var(--fill-color);\n",
              "      border-top-color: var(--fill-color);\n",
              "      border-right-color: var(--fill-color);\n",
              "    }\n",
              "    40% {\n",
              "      border-color: transparent;\n",
              "      border-right-color: var(--fill-color);\n",
              "      border-top-color: var(--fill-color);\n",
              "    }\n",
              "    60% {\n",
              "      border-color: transparent;\n",
              "      border-right-color: var(--fill-color);\n",
              "    }\n",
              "    80% {\n",
              "      border-color: transparent;\n",
              "      border-right-color: var(--fill-color);\n",
              "      border-bottom-color: var(--fill-color);\n",
              "    }\n",
              "    90% {\n",
              "      border-color: transparent;\n",
              "      border-bottom-color: var(--fill-color);\n",
              "    }\n",
              "  }\n",
              "</style>\n",
              "\n",
              "  <script>\n",
              "    async function quickchart(key) {\n",
              "      const quickchartButtonEl =\n",
              "        document.querySelector('#' + key + ' button');\n",
              "      quickchartButtonEl.disabled = true;  // To prevent multiple clicks.\n",
              "      quickchartButtonEl.classList.add('colab-df-spinner');\n",
              "      try {\n",
              "        const charts = await google.colab.kernel.invokeFunction(\n",
              "            'suggestCharts', [key], {});\n",
              "      } catch (error) {\n",
              "        console.error('Error during call to suggestCharts:', error);\n",
              "      }\n",
              "      quickchartButtonEl.classList.remove('colab-df-spinner');\n",
              "      quickchartButtonEl.classList.add('colab-df-quickchart-complete');\n",
              "    }\n",
              "    (() => {\n",
              "      let quickchartButtonEl =\n",
              "        document.querySelector('#df-fc73e436-77d4-4a52-b2c1-4ccfc038b6e6 button');\n",
              "      quickchartButtonEl.style.display =\n",
              "        google.colab.kernel.accessAllowed ? 'block' : 'none';\n",
              "    })();\n",
              "  </script>\n",
              "</div>\n",
              "\n",
              "    </div>\n",
              "  </div>\n"
            ]
          },
          "metadata": {},
          "execution_count": 4
        }
      ]
    },
    {
      "cell_type": "markdown",
      "source": [
        "# **Chaldal**"
      ],
      "metadata": {
        "id": "49d88cnuTMbK"
      }
    },
    {
      "cell_type": "code",
      "source": [
        "from google_play_scraper import Sort, reviews_all\n",
        "\n",
        "\n",
        "chaldal_reviews = reviews_all(\n",
        "    'com.chaldal.poached',\n",
        "    lang='en', # defaults to 'en'\n",
        "    country='us', # defaults to 'us'\n",
        "    sort=Sort.NEWEST, # defaults to Sort.MOST_RELEVANT\n",
        "    sleep_milliseconds=500  # Adjust delay as needed\n",
        ")"
      ],
      "metadata": {
        "id": "-sEM6EWiTLk0"
      },
      "execution_count": null,
      "outputs": []
    },
    {
      "cell_type": "code",
      "source": [
        "df_chaldal = pd.DataFrame(np.array(chaldal_reviews),columns=['review'])\n",
        "\n",
        "df_chaldal = df_chaldal.join(pd.DataFrame(df_chaldal.pop('review').tolist()))\n",
        "\n",
        "df_chaldal.head()\n",
        "\n",
        "df_chaldal.to_excel('chaldal_reviews.xlsx', index=False)\n"
      ],
      "metadata": {
        "id": "AwVE9hh3UQGa"
      },
      "execution_count": null,
      "outputs": []
    },
    {
      "cell_type": "markdown",
      "source": [
        "# **Bikroy**"
      ],
      "metadata": {
        "id": "YbhrwHZSUlTq"
      }
    },
    {
      "cell_type": "code",
      "source": [
        "from google_play_scraper import Sort, reviews_all\n",
        "\n",
        "\n",
        "bikroy_reviews = reviews_all(\n",
        "    'com.bikroy',\n",
        "    lang='en', # defaults to 'en'\n",
        "    country='us', # defaults to 'us'\n",
        "    sort=Sort.NEWEST, # defaults to Sort.MOST_RELEVANT\n",
        "    sleep_milliseconds=100  # Adjust delay as needed\n",
        ")"
      ],
      "metadata": {
        "id": "FWHU63LyUolT"
      },
      "execution_count": null,
      "outputs": []
    },
    {
      "cell_type": "code",
      "source": [
        "df_bikroy = pd.DataFrame(np.array(bikroy_reviews),columns=['review'])\n",
        "\n",
        "df_bikroy = df_bikroy.join(pd.DataFrame(df_bikroy.pop('review').tolist()))\n",
        "\n",
        "df_bikroy.head()\n",
        "\n",
        "df_bikroy.to_excel('bikroy_reviews.xlsx', index=False)\n"
      ],
      "metadata": {
        "id": "UIRz_-haVUkH"
      },
      "execution_count": null,
      "outputs": []
    },
    {
      "cell_type": "markdown",
      "source": [
        "# **Rokomari**"
      ],
      "metadata": {
        "id": "W5M_Anm5V8Zq"
      }
    },
    {
      "cell_type": "code",
      "source": [
        "from google_play_scraper import Sort, reviews_all\n",
        "\n",
        "rokomari_reviews = reviews_all(\n",
        "    'com.rokomari',\n",
        "    lang='en', # defaults to 'en'\n",
        "    country='us', # defaults to 'us'\n",
        "    sort=Sort.NEWEST, # defaults to Sort.MOST_RELEVANT\n",
        "    sleep_milliseconds=100  # Adjust delay as needed\n",
        ")"
      ],
      "metadata": {
        "id": "4-_2CHv-WCcw"
      },
      "execution_count": null,
      "outputs": []
    },
    {
      "cell_type": "code",
      "source": [
        "df_rokomari = pd.DataFrame(np.array(rokomari_reviews),columns=['review'])\n",
        "\n",
        "df_rokomari = df_rokomari.join(pd.DataFrame(df_rokomari.pop('review').tolist()))\n",
        "\n",
        "df_rokomari.head()\n",
        "\n",
        "df_rokomari.to_excel('rokomari_reviews.xlsx', index=False)\n"
      ],
      "metadata": {
        "id": "uENql26VWLH4"
      },
      "execution_count": null,
      "outputs": []
    }
  ]
}